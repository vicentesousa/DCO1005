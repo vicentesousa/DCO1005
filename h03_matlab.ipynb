{
 "cells": [
  {
   "cell_type": "markdown",
   "metadata": {},
   "source": [
    "# Hands-on 02: Visualização de sinais na frequência (gerando e vendo o espectro de um sinal)\n",
    "\n",
    "# Objetivos\n",
    "As metas desse tutorial são ajudar o usuário a:\n",
    "- Visualização do conteúdo em frequência (_single_ e _double sided_) de um sinal;\n",
    "- Descrever o projeto da UNIDADE I: Manipular sinais gravados em arquivos e estimar suas componentes de frequência e fase."
   ]
  },
  {
   "cell_type": "markdown",
   "metadata": {
    "run_control": {
     "frozen": false,
     "read_only": false
    }
   },
   "source": [
    "# Conteúdo em frequência do sinal"
   ]
  },
  {
   "cell_type": "markdown",
   "metadata": {
    "run_control": {
     "frozen": false,
     "read_only": false
    }
   },
   "source": [
    "O conteúdo em frequência de um sinal pode ser analisado pela família de transformadas de Fourier. A análise de Fourier se deve ao físico e matemático Francês Jean Baptiste Joseph Fourier (1768-1830). \n",
    "\n",
    "Essencialmente, a análise de Fourier define um par de formulações. Uma formulação **direta** representa o conteúdo espectral do sinal, enquanto que a formulação **inversa** reconstrói o sinal correspondente no domínio do tempo por meio de seu conteúdo espectral.\n",
    "\n",
    "O tipo de ferramenta de Fourier depende do tipo de sinal a ser analisado, existindo os seguintes casos:\n",
    "\n",
    "1) Sinal contínuo no tempo e periódico: O sinal por ser escrito como um somatório (discreto) infinito de senos, cossenos ou exponenciais com  amplitudes diferentes. Isso define a **Série de Fourier** e sua inversa.\n",
    "\n",
    "2) Sinal contínuo no tempo e não periódico: A série de Fourier pode ser escrita para números complexos e generalizada de forma infinitesimal para derivar a **Transformada de Fourier**.\n",
    "\n",
    "3) Sinal discreto no tempo e periódico: O sinal é escrito como um somatório finito de base exponenciais, definindo a **Transformada Discreta de Fourier (DFT)**.\n",
    "\n",
    "4) Sinal discreto no tempo e não periódico: Generalizando a DTF de forma infinitesimal obtemos a **Transformada de Fourier Discreta no Tempo (DTFT)** que serve para esse tipo de sinal.\n",
    "\n",
    "A maioria das ferramentas de Fourier envolve somatórios que se estendem de -$\\infty$ a +$\\infty$. Isso é \"relativamente\" fácil de manipular em exercícios de sala de aula, mas como será que essas ferramentas serão tratadas com um número finito de amostras em um computador? De fato, falar em computador é falar de sinais discretos, o que reduz nosso trabalho a escolher entre duas ferramentas, a DFT (apropriada para sinais periódicos) ou a DTFT (apropriada para qualquer sinal).\n",
    "\n",
    "De fato, senos e cossenos se estendem de -$\\infty$ a +$\\infty$ e nós não podemos usar, em um computador, sinais infinitamente longos para sinterizar outro sinal de tamanho finito. Uma forma de resolver esse dilema é fazer os dados finitos parecerem um sinal de tamanho infinito. Podemos imaginar que um sinal de 1024 pontos tem infinitos pontos para a direita e a esquerda. Se esses pontos forem igual a zero, temos um sinal não-periódico e podemos aplicar a DTFT. Como alternativa, podemos imaginar que as amostras a direita e a esquerda, antes iguais a zero, podem ser cópias dos 1024 pontos do sinal finito, formando um sinal discreto e periódico. Nesse segundo sinal que imaginamos podemos usar a DTF.\n",
    "\n",
    "Por sua vez, um número infinito de senoides precisa ser usado para sintetizar sinais não-periódicos (DTFT), o que torna impossível o cálculo da DTFT em um computador. Assim, por eliminação, o único tipo de ferramenta de Fourier que pode ser usado em uma DSP é a DFT. Em outras palavras, computadores só podem trabalhar com sinais (informação) discreta e finita. Assim, ao mostrar o espectro de um sinal em um computador, você estará calculando a DFT!"
   ]
  },
  {
   "cell_type": "markdown",
   "metadata": {},
   "source": [
    "Dito isso, para visualizarmos o conteúdo em frequência no computador lançamos mão da DFT, a qual tem a seguinte definição:\n",
    "\n",
    "$$ X[k] = \\sum_{n=0}^{N-1} x[n] \\cdot  e^{-j \\left( \\frac{2\\pi}{N}\\right)k \\cdot n}$$\n",
    "\n",
    "A transformada inversa é dada por:\n",
    "\n",
    "$$ x[n] = \\sum_{n=0}^{N-1} X_k \\cdot  e^{j \\left( \\frac{2\\pi}{N}\\right)k \\cdot n}$$"
   ]
  },
  {
   "cell_type": "markdown",
   "metadata": {},
   "source": [
    "## DFT no Matlab\n",
    "\n",
    "A função **fft(x)** retorna a transformada discreta de Fourier (DFT) do vetor x calculado com o algorítmo FFT (_Fast Fourier Transform_). Por ser uma função **Built-in**, ela é protegida pelo Matlab, de forma que não é possível visualizá-la, mesmo que você digite os comandos **open fft** ou **edit fft**. Entretanto, é possível ver as descrições e exemplos com o comando \"help fft\".\n",
    "\n",
    "Clique em **doc fft**, que um conjunto de informações adicionais."
   ]
  },
  {
   "cell_type": "code",
   "execution_count": 3,
   "metadata": {
    "run_control": {
     "frozen": false,
     "read_only": false
    }
   },
   "outputs": [
    {
     "name": "stdout",
     "output_type": "stream",
     "text": [
      " FFT Discrete Fourier transform.\n",
      "    FFT(X) is the discrete Fourier transform (DFT) of vector X.  For\n",
      "    matrices, the FFT operation is applied to each column. For N-D\n",
      "    arrays, the FFT operation operates on the first non-singleton\n",
      "    dimension.\n",
      " \n",
      "    FFT(X,N) is the N-point FFT, padded with zeros if X has less\n",
      "    than N points and truncated if it has more.\n",
      " \n",
      "    FFT(X,[],DIM) or FFT(X,N,DIM) applies the FFT operation across the\n",
      "    dimension DIM.\n",
      "    \n",
      "    For length N input vector x, the DFT is a length N vector X,\n",
      "    with elements\n",
      "                     N\n",
      "       X(k) =       sum  x(n)*exp(-j*2*pi*(k-1)*(n-1)/N), 1 <= k <= N.\n",
      "                    n=1\n",
      "    The inverse DFT (computed by IFFT) is given by\n",
      "                     N\n",
      "       x(n) = (1/N) sum  X(k)*exp( j*2*pi*(k-1)*(n-1)/N), 1 <= n <= N.\n",
      "                    k=1\n",
      " \n",
      "    See also FFT2, FFTN, FFTSHIFT, FFTW, IFFT, IFFT2, IFFTN.\n",
      "\n",
      "    Other functions named fft:\n",
      "       uint8/fft\n",
      "       uint16/fft\n",
      "       iddata/fft\n",
      "       codistributed/fft\n",
      "       gpuArray/fft\n",
      "       gf/fft\n",
      "       qfft/fft\n",
      "\n",
      "    Reference page in Help browser\n",
      "       doc fft\n",
      "\n"
     ]
    }
   ],
   "source": [
    "% Descrição rápida da fft do Matlab\n",
    "help fft"
   ]
  },
  {
   "cell_type": "markdown",
   "metadata": {
    "run_control": {
     "frozen": false,
     "read_only": false
    }
   },
   "source": [
    "# Prática 2: Amplitude do espectro _single sided band_\n",
    "\n",
    "Vamos praticar a construção da magnitude do espectro de um sinal senoidal de frequência única (um tom) sem usar as funções prontas do Matlab. Usaremos a função **stem($\\cdot$)** ao invés da função **plot($\\cdot$)**, isso facilitará a visualização no eixo da frequência.\n",
    "\n",
    "**Passo 1:** Abra o Matlab e digite no _Command Window_ o seguinte comando:\n",
    "\n",
    "```python\n",
    "edit fft\n",
    "```\n",
    "\n",
    "Isso abrirá o arquivo **fft.m**. Observe que ele não tem código implementado (é uma função _Built-in_), geralmente implementada em C++, e com código escondido.\n",
    "\n",
    "**Passo 2:** Agora digite no _Command Window_ o seguinte comando:\n",
    "\n",
    "```python\n",
    "edit psd\n",
    "```\n",
    "\n",
    "Isso abrirá o arquivo **psd.m**. Observe que ele não é uma função _Built-in_ e você pode ver seu código na íntegra.\n",
    "\n",
    "**Passo 3:** Antes de usar a função do Matlab, vamos implementar um algoritmo para a DFT utilizando sua definição. Abra um script no Matlab, salve-o como **handson3_2.m** e escreva o seguinte código:"
   ]
  },
  {
   "cell_type": "code",
   "execution_count": 1,
   "metadata": {
    "run_control": {
     "frozen": false,
     "read_only": false
    }
   },
   "outputs": [
    {
     "name": "stdout",
     "output_type": "stream",
     "text": [
      "Tempo da DFT = 8.0308 s\n",
      "  Name              Size                 Bytes  Class     Attributes\n",
      "\n",
      "  Am                1x1                      8  double              \n",
      "  L                 1x1                      8  double              \n",
      "  N                 1x1                      8  double              \n",
      "  T                 1x1                      8  double              \n",
      "  WN                1x1                     16  double    complex   \n",
      "  WNnk           2000x2000            64000000  double    complex   \n",
      "  X                 1x2000               32000  double    complex   \n",
      "  f                 1x1001                8008  double              \n",
      "  fm                1x1                      8  double              \n",
      "  fsampling         1x1                      8  double              \n",
      "  k                 1x2000               16000  double              \n",
      "  m                 1x2000               16000  double              \n",
      "  n                 1x2000               16000  double              \n",
      "  nn             2000x2000            32000000  double              \n",
      "  t                 1x2000               16000  double              \n",
      "  t1                1x1                      8  uint64              \n",
      "  tempo_DFT         1x1                      8  double              \n",
      "\n"
     ]
    },
    {
     "data": {
      "image/png": "[encoded data removed]",
      "text/plain": [
       "<IPython.core.display.Image object>"
      ]
     },
     "metadata": {},
     "output_type": "display_data"
    }
   ],
   "source": [
    "clc; close all;clear all;                             % Limpa variáveis e fecha todos os gráficos\n",
    "%% Geração do sinal cosenoidal\n",
    "fsampling = 10;                                       % Taxa de amostragem\n",
    "T =1/fsampling;                                       % Tempo entre amostras\n",
    "L = 2000;                                             % Número de amostras\n",
    "t = 0 : (1/fsampling) : (L-1)*T;                      % Eixo do tempo\n",
    "fm = 0.04;                                            % Frequência da senoide\n",
    "Am = 2;                                               % Amplitude da senoide\n",
    "m = Am*cos(2*pi*fm*t);                                % Sinal senoidal\n",
    "t1=tic;                                               % Contador de tempo\n",
    "\n",
    "%% Montando a DFT\n",
    "N=length(m);                                          % Comprimento do sinal m(t)\n",
    "n=0:N-1;                                              % Vetor n\n",
    "k=0:N-1;                                              % Vetor k\n",
    "WN=exp(-j*2*pi/N);                                    % Cálculo de Wn = e^{-j2pi/N}\n",
    "nn=n'*k;                                              % Monta a Matriz DFT\n",
    "WNnk=WN.^nn;                                          % Monta a Matriz DFT\n",
    "X=m*WNnk/L;                                           % Implementa o somatório da DFT via operação matricial    \n",
    "f = fsampling/2*linspace(0,1,(L/2)+1);                % Monta o eixo das frequências\n",
    "tempo_DFT=toc(t1);                                    % Conta tempo de execução até esse ponto do código\n",
    "disp(['Tempo da DFT = ' num2str(tempo_DFT) ' s']);    % Mostra tempo de execução\n",
    "stem(f,2*abs(X(1:L/2+1)));                            % Mostra gráfico do espectro \n",
    "axis([ 0 0.1 0 2.2]);                                 % Zoom para melhor visualização \n",
    "% A função 'whos' é responsável por mostrar todas as variáveis que foram criadas no workspace,\n",
    "% identificando suas principais caracteristicas.\n",
    "whos"
   ]
  },
  {
   "cell_type": "markdown",
   "metadata": {},
   "source": [
    "Inspecione o código com calma. Veja o tamanho das variáveis criadas e tente entender a forma matricial de como foi calculado o somatório da DFT. Caso queira verificar mais detalhes, consulte a bibliografia indicada no final do experimento."
   ]
  },
  {
   "cell_type": "markdown",
   "metadata": {
    "run_control": {
     "frozen": false,
     "read_only": false
    }
   },
   "source": [
    "# Prática 3: Amplitude do espectro usando as funções do Matlab\n",
    "\n",
    "Agora vamos usar as funções prontas do Matlab para gerar o espectro de um sinal. Seguiremos os seguintes passos:\n",
    "- Definir o tamanho da FFT (resolução em frequência);\n",
    "- Definir a frequência de amostragem (seguindo a montagem do sinal no tempo);\n",
    "- Normalizar a amplitude;\n",
    "- Definir o eixo da frequência de acordo com o comprimento da FFT e a taxa de amostragem.\n",
    "\n",
    "A resolução mínima de frequência será determinada pelo número de pontos da FFT e a taxa de amostragem. \n",
    "\n",
    "**Passo 1:** Abra um script no Matlab, salve-o como **handson3_3.m** e escreva o seguinte código:"
   ]
  },
  {
   "cell_type": "code",
   "execution_count": 2,
   "metadata": {
    "run_control": {
     "frozen": false,
     "read_only": false
    }
   },
   "outputs": [
    {
     "name": "stdout",
     "output_type": "stream",
     "text": [
      "Tempo da FFT = 1.0844\n"
     ]
    },
    {
     "data": {
      "image/png": "[encoded data removed]",
      "text/plain": [
       "<IPython.core.display.Image object>"
      ]
     },
     "metadata": {},
     "output_type": "display_data"
    }
   ],
   "source": [
    "clc; close all;clear all;                                     % Limpa variáveis e fecha todos os gráficos\n",
    "%% Geração do sinal cosenoidal\n",
    "fsampling = 10;                                               % Taxa de amostragem\n",
    "tf = 200;                                                     % Tempo entre amostras\n",
    "t = 0 : (1/fsampling) : tf;                                   % Eixo do tempo\n",
    "fm = 0.04;                                                    % Frequência da senoide\n",
    "Am = 2;                                                       % Amplitude da senoide\n",
    "m = Am*cos(2*pi*fm*t);                                        % Sinal senoidal\n",
    "t1=tic;                                                       % Contador de tempo\n",
    "\n",
    "%% Visualizando a amplitude do espectro com um tamanho arbitrário para a fft\n",
    "lfft = 512;                                                   % Tamanho da FFT  \n",
    "% Construção do single-sided amplitude spectrum.\n",
    "yfft = fft(m,lfft)/lfft;                                      % Cálculo da FFT via função do Matlab\n",
    "freq1 = [0 : fsampling/lfft : fsampling/2 - fsampling/lfft];  % Definição do eixo das frequências unilateral\n",
    "yfftuni = yfft(1:lfft/2);                                     % Coleta da FFT unilateral\n",
    "stem(freq1,abs(yfftuni));                                     % Plotagem do espectro unilateral M(f)\n",
    "tempo_FFT=toc(t1);                                            % Conta tempo de execução até esse ponto do código\n",
    "disp(['Tempo da FFT = ' num2str(tempo_FFT)]);                 % Mostra de tempo de execução\n",
    "title('Amplitude unilateral do Espectro de m(t)');            % Configuração do título do gráfico \n",
    "xlabel('Frequencia (kHz)');                                   % Configuração do eixo x do gráfico \n",
    "ylabel('|M(f)|');                                             % Configuração do eixo y do gráfico  \n",
    "grid on;                                                      % Adiona o grid  \n",
    "axis([ 0 0.1 0 1.2]);                                         % Zoom do gráfico"
   ]
  },
  {
   "cell_type": "markdown",
   "metadata": {
    "run_control": {
     "frozen": false,
     "read_only": false
    }
   },
   "source": [
    "Pelo gráfico, vemos que o pico não está centrado em 0,04 kHz. Podemos ver que quando a curva se aproxima de 0,04 kHz a amplitude cresce e em seguida decresce. Isso é muito comum de acontecer, e se deve ao fato de que o eixo da frequência não está definido o valor de 0.04. Vamos inspecionar a variável _freq1_, os pontos mais pŕoximos de 0,04 são 0.0391 kHz e 0.0586 kHz, por isso o gráfico está aparentemente deslocado. Caso estivesse definido em 0.04, haveria o pico máximo. \n",
    "\n",
    "**Passo 2:** Vamos inspecionar as variável _freq1_, digite _freq1_ no _Command Windows_ do Matlab:"
   ]
  },
  {
   "cell_type": "code",
   "execution_count": 3,
   "metadata": {
    "run_control": {
     "frozen": false,
     "read_only": false
    }
   },
   "outputs": [
    {
     "name": "stdout",
     "output_type": "stream",
     "text": [
      "\n",
      "ans =\n",
      "\n",
      "         0    0.0195    0.0391    0.0586    0.0781    0.0977\n",
      "\n"
     ]
    }
   ],
   "source": [
    "% Seis primeiros termos do vetor freq1 mostram que ele não está definido em 0.04 kHz.\n",
    "freq1(1:6)"
   ]
  },
  {
   "cell_type": "markdown",
   "metadata": {
    "run_control": {
     "frozen": false,
     "read_only": false
    }
   },
   "source": [
    "O motivo de usar a função **stem($\\cdot$)** no lugar de **plot($\\cdot$)** é que esta última faz a ligação dos pontos subsequentes e os aproxima como retas, o que pode mascarar o real comportamento do espectro. \n",
    "\n",
    "\n",
    "**Passo 3:** Vamos verificar a influência do tamanho da FFT no espectro mostrado. Abra um script no Matlab, salve-o como **handson3_4.m** e escreva o seguinte código. O código ilustra os dois casos: (i) Quando o tamanho da FFT gera um eixo que inclui a frequência da senoide; e (ii) Quando o tamanho da FFT **não** gera um eixo que inclui a frequência da senoide."
   ]
  },
  {
   "cell_type": "code",
   "execution_count": 2,
   "metadata": {
    "run_control": {
     "frozen": false,
     "read_only": false
    }
   },
   "outputs": [
    {
     "data": {
      "image/png": "[encoded data removed]",
      "text/plain": [
       "<IPython.core.display.Image object>"
      ]
     },
     "metadata": {},
     "output_type": "display_data"
    },
    {
     "data": {
      "image/png": "[encoded data removed]",
      "text/plain": [
       "<IPython.core.display.Image object>"
      ]
     },
     "metadata": {},
     "output_type": "display_data"
    }
   ],
   "source": [
    "clc; close all;clear all;                                        % Limpa variáveis e fecha todos os gráficos\n",
    "%% Geração do sinal cosenoidal\n",
    "fsampling = 10;                                                  % Taxa de amostragem\n",
    "tf = 200;                                                        % Tempo entre amostras\n",
    "t = 0 : (1/fsampling) : tf;                                      % Eixo do tempo\n",
    "fm = 0.04;                                                       % Frequência da senoide\n",
    "Am = 2;                                                          % Amplitude da senoide\n",
    "m = Am*cos(2*pi*fm*t);                                           % Sinal senoidal\n",
    "\n",
    "%% Visualizando a amplitude do espectro com um tamanho arbitrário para a FFT\n",
    "lfft = 1000;                                                  % Tamanho da FFT\n",
    "yfft = fft(m,lfft)/lfft;                                      % Cálculo da FFT via função do Matlab\n",
    "freq1 = [0 : fsampling/lfft : fsampling/2 - fsampling/lfft];  % Definição do eixo das frequências unilateral\n",
    "yfftuni = yfft(1:lfft/2);                                     % Coleta da FFT unilateral\n",
    "subplot(2,1,1)\n",
    "stem(freq1,abs(yfftuni));                                     % Plotagem do espectro unilateral M(f)\n",
    "grid on;\n",
    "title(['Tamanho da FFT = ' num2str(lfft)]);\n",
    "axis([ 0 0.1 0 1.2]);\n",
    "\n",
    "%% Visualizando a amplitude do espectro com um tamanho arbitrário para a FFT\n",
    "lfft2 = 512;                                                   % Tamanho da FFT\n",
    "yfft2 = fft(m,lfft2)/lfft2;                                    % Cálculo da FFT via função do Matlab\n",
    "freq2 = [0 : fsampling/lfft2 : fsampling/2 - fsampling/lfft2]; % Definição do eixo das frequências unilateral\n",
    "yfftuni2 = yfft2(1:lfft2/2);                                   % Coleta da FFT unilateral\n",
    "subplot(2,1,2)\n",
    "stem(freq2,abs(yfftuni2));                                     % Plotagem do espectro unilateral M(f)\n",
    "grid on;\n",
    "title(['Tamanho da FFT = ' num2str(lfft2)]);\n",
    "axis([ 0 0.1 0 1.2]);\n",
    "\n",
    "%% Gráficos com a função plot()\n",
    "figure;\n",
    "subplot(2,1,1)\n",
    "plot(freq1,abs(yfftuni));                                     % Plotagem do espectro unilateral M(f)\n",
    "grid on;\n",
    "title(['Tamanho da FFT = ' num2str(lfft)]);\n",
    "axis([ 0 0.1 0 1.2]);\n",
    "subplot(2,1,2)\n",
    "plot(freq2,abs(yfftuni2));                                     % Plotagem do espectro unilateral M(f)\n",
    "grid on;\n",
    "title(['Tamanho da FFT = ' num2str(lfft2)]);\n",
    "axis([ 0 0.1 0 1.2]);\n",
    "\n"
   ]
  },
  {
   "cell_type": "markdown",
   "metadata": {},
   "source": [
    "Note que conseguimos visualizar melhor o desvio da frequência central quando usamos a função **stem($\\cdot$)**."
   ]
  },
  {
   "cell_type": "markdown",
   "metadata": {
    "run_control": {
     "frozen": false,
     "read_only": false
    }
   },
   "source": [
    "# Prática 4: _Double-sided amplitude spectrum_\n",
    "\n",
    "Queremos mostrar agora os dois lados (positivo e negativo) do espectro frequência. Para isso definiremos alguns vetores de forma diferente que as práticas anteriores.\n",
    "\n",
    "**Passo 1:** Abra um script no Matlab, salve-o como **handson3_5.m** e escreva o seguinte código:"
   ]
  },
  {
   "cell_type": "code",
   "execution_count": 1,
   "metadata": {
    "run_control": {
     "frozen": false,
     "read_only": false
    }
   },
   "outputs": [
    {
     "data": {
      "image/png": "[encoded data removed]",
      "text/plain": [
       "<IPython.core.display.Image object>"
      ]
     },
     "metadata": {},
     "output_type": "display_data"
    }
   ],
   "source": [
    "clc; close all;clear all;                                     % Limpa variáveis e fecha todos os gráficos\n",
    "%% Geração do sinal cosenoidal\n",
    "fsampling = 10;                                               % Taxa de amostragem\n",
    "tf = 200;                                                     % Tempo entre amostras\n",
    "t = 0 : (1/fsampling) : tf;                                   % Eixo do tempo\n",
    "fm = 0.04;                                                    % Frequência da senoide\n",
    "Am = 2;                                                       % Amplitude da senoide\n",
    "m = Am*cos(2*pi*fm*t);                                        % Sinal senoidal\n",
    "\n",
    "%% Plot do sinal M(f): single-sided amplitude spectrum.\n",
    "% Visualizando a amplitude do espectro com um tamanho arbitrário para a fft\n",
    "lfft = 1000;\n",
    "%% Construção do single-sided amplitude spectrum.\n",
    "yfft = fft(m,lfft)/lfft;                                      % Cálculo da FFT via função do Matlab\n",
    "freq1 = [0 : fsampling/lfft : fsampling/2 - fsampling/lfft];  % Definição do eixo das frequências unilateral\n",
    "yfftuni = yfft(1:lfft/2);                                     % Coleta da FFT unilateral\n",
    "subplot(1,2,1);\n",
    "stem(freq1,abs(yfftuni));                                     % Plotagem do espectro unilateral M(f)\n",
    "title('Espectro unilateral');                                 % Configuração do título do gráfico \n",
    "xlabel('Frequencia (kHz)');                                   % Configuração do eixo x do gráfico \n",
    "ylabel('|M(f)|');                                             % Configuração do eixo y do gráfico  \n",
    "grid on;                                                      % Adiona o grid  \n",
    "axis([ 0 0.1 0 1.2]);                                         % Zoom do gráfico\n",
    "\n",
    "%% Plot do sinal M(f): double-sided amplitude spectrum.\n",
    "% Colocando as frequência no lado esquerdo; \n",
    "subplot(1,2,2);\n",
    "%% Construção do double-sided amplitude spectrum.\n",
    "lfftd = 1000;\n",
    "yfftd = fft(m,lfftd)/lfftd;                                   % Cálculo da FFT via função do Matlab\n",
    "yfftd = fftshift(yfftd);\n",
    "% Definição do eixo das frequências unilateral\n",
    "freqd = [-fsampling/2 : fsampling/lfftd : fsampling/2 - fsampling/lfftd];\n",
    "stem(freqd,abs(yfftd));                                       % Plotagem do espectro unilateral M(f)\n",
    "title('Espectro bilateral');                                  % Configuração do título do gráfico \n",
    "xlabel('Frequencia (kHz)');                                   % Configuração do eixo x do gráfico \n",
    "ylabel('|M(f)|');                                             % Configuração do eixo y do gráfico  \n",
    "grid on;                                                      % Adiona o grid  \n",
    "axis([ -0.1 0.1 0 1.2]);                                      % Zoom do gráfico"
   ]
  },
  {
   "cell_type": "markdown",
   "metadata": {},
   "source": [
    "Para o plot do espectro com as duas partes da banda (positiva e negativa) precisamos tomar cuidado com o eixo das frequências e não precisamos limitar a saída da função **fft($\\cdot$)**. Outra ação necessária é usar a função **fftshift($\\cdot$)** para centralizar o espectro em torno do zero. Veja a seguir o help da função _fftshift_."
   ]
  },
  {
   "cell_type": "code",
   "execution_count": 3,
   "metadata": {
    "scrolled": false
   },
   "outputs": [
    {
     "name": "stdout",
     "output_type": "stream",
     "text": [
      " FFTSHIFT Shift zero-frequency component to center of spectrum.\n",
      "    For vectors, FFTSHIFT(X) swaps the left and right halves of\n",
      "    X.  For matrices, FFTSHIFT(X) swaps the first and third\n",
      "    quadrants and the second and fourth quadrants.  For N-D\n",
      "    arrays, FFTSHIFT(X) swaps \"half-spaces\" of X along each\n",
      "    dimension.\n",
      " \n",
      "    FFTSHIFT(X,DIM) applies the FFTSHIFT operation along the \n",
      "    dimension DIM.\n",
      " \n",
      "    FFTSHIFT is useful for visualizing the Fourier transform with\n",
      "    the zero-frequency component in the middle of the spectrum.\n",
      " \n",
      "    Class support for input X:\n",
      "       float: double, single\n",
      " \n",
      "    See also IFFTSHIFT, FFT, FFT2, FFTN, CIRCSHIFT.\n",
      "\n",
      "    Reference page in Help browser\n",
      "       doc fftshift\n",
      "\n"
     ]
    }
   ],
   "source": [
    "help fftshift"
   ]
  },
  {
   "cell_type": "markdown",
   "metadata": {},
   "source": [
    "Note também que existe uma relação importante entre a **taxa de amostragem**, o **número de amostras da FFT** e a resolução do gráfico do espectro do sinal. Observe que a frequência máxima e mínima é a metade da taxa de amostragem (claro, a mínima negativa e a máxima positiva). A resolução do gráfico do espectro, diferença de frequência entre pontos vizinhos do gráfico do espectro, é a razão entre a **taxa de amostragem** e o **número de pontos da FFT**. "
   ]
  },
  {
   "cell_type": "markdown",
   "metadata": {},
   "source": [
    "# Projeto da UNIDADE I\n",
    "\n",
    "\n",
    "Agora que você já sabe gerar e visualizar um sinal no tempo e na frequência, o projeto da UNIDADE I traz o desafio de você descobrir tanto a frequência como a fase de um sinal gravado em arquivo.\n",
    "\n",
    "\n",
    "O arquivo de cada aluno está identificado por sua matrícula na pasta [./CODES/HD_02_files](./CODES/HD_02_files). Por exemplo, o arquivo **2014089577.mat** é do aluno com matrícula 2014089577.\n",
    "\n",
    "\n",
    "Cada arquivo (gerado no Matlab) tem os seguinte conjunto de dados:\n",
    "\n",
    "- **fs**: frequência de amostragem (taxa de amostragem)\n",
    "- **t_sample**: vetor com os instantes das amostras do sinal \n",
    "- **x**: amostras dos sinal\n",
    "\n",
    "O sinal $x$ é composto por uma soma de 2 a 5 senos com frequências e fases diferentes. Seu objetivo é, por meio do sinal $x$, estimar quantos senos compõem o sinal, quais suas frequências e respectivas fases.\n",
    "\n",
    "Um material muito bom para guia-lo na execução do projeto é: \n",
    "\n",
    "[Profs. Larissa Driemeier/Marcilio Alves/Rafael T. Moura, ESCOLA POLITÉCNICA DA UNIVERSIDADE DE SÃO PAULO, Departamento de Engenharia Mecatrônica, Instrumentação](./MATERIAL/HD_03_MATLAB/AnaliseSinais_Instrumentacao.pdf)\n",
    "[Link para versão na web](https://edisciplinas.usp.br/pluginfile.php/4398247/mod_resource/content/4/AnaliseSinais_Instrumentacao.pdf)\n",
    "\n",
    "Minha sugestão é:\n",
    "\n",
    "1. Leia o material, siga os experimentos (pelo menos até a página 9). O sinal foi gerado minimizando o Leakage;\n",
    "2. Abra o arquivo com sua matrícula, manipule o sinal $x$ e estime as frequências e, fases correspondentes, que o compõe. **Dica**: você pode utilizar a função **findpeaks** no espectro do sinal!!!\n",
    "\n",
    "\n",
    "Além de enviar o código pelo SIGAA, a entrega só será completa se você gravar um vídeo de até 5 minutos explicando seu código e mostrando os valores estimados. \n",
    "\n",
    "O link para o vídeo deve ser compartilhado no youtube (de forma privada) para o prof. Vicente Sousa pelo e-mail **vicente.sousa@ufrn.edu.br**.\n",
    "\n"
   ]
  },
  {
   "cell_type": "markdown",
   "metadata": {},
   "source": [
    "# Bibliografia\n",
    "\n",
    "Steven W. Smith, The Scientist and Engineer's Guide to Digital Signal Processing (http://www.dspguide.com/ch8/1.htm ).\n",
    "\n",
    "Steve Mann, The Discrete Fourier Transform (http://wearcam.org/ece431/course_material/fourierop_and_dit.htm ).\n",
    "\n",
    "Wikipedia: DFT matrix (https://en.wikipedia.org/wiki/DFT_matrix)\n",
    "\n",
    "OKTAY ALKIN, SIGNALS and SYSTEMS - A MATLAB Integrated Approach, 2014.\n",
    "\n",
    "MATTHEW N. O. SADIKU and WARSAME H. ALI, Signals and Systems A Primer with MATLAB, 2015.\n",
    "\n",
    "Ricardo Tokio Higuti, Processamento Digital de Sinais - Notas de Aula - Analise Espectral Usando a DFT (http://www.feis.unesp.br/Home/departamentos/engenhariaeletrica/ele1095_5_analiseespectral.pdf)\n",
    "\n",
    "Digital Signal Processing - Part 3: Discrete-Time Signals & Systems Case Studies (http://aparate.elth.ucv.ro/web/Arhiva/Matla/matlabsignal.pdf)\n",
    "\n",
    "\n"
   ]
  }
 ],
 "metadata": {
  "kernelspec": {
   "display_name": "Matlab",
   "language": "matlab",
   "name": "matlab"
  },
  "language_info": {
   "codemirror_mode": "octave",
   "file_extension": ".m",
   "help_links": [
    {
     "text": "MetaKernel Magics",
     "url": "https://github.com/calysto/metakernel/blob/master/metakernel/magics/README.md"
    }
   ],
   "mimetype": "text/x-matlab",
   "name": "matlab",
   "version": "0.14.3"
  }
 },
 "nbformat": 4,
 "nbformat_minor": 2
}
