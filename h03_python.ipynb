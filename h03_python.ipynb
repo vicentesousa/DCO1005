{
 "cells": [
  {
   "cell_type": "markdown",
   "metadata": {},
   "source": [
    "# Hands-on 02: Visualização de sinais na frequência (gerando e vendo o espectro de um sinal)\n",
    "\n",
    "# Objetivos\n",
    "As metas desse tutorial são ajudar o usuário a:\n",
    "- Visualização do conteúdo em frequência (_single_ e _double sided_) de um sinal;\n",
    "- Descrever o projeto da UNIDADE I: Manipular sinais gravados em arquivos e estimar suas componentes de frequência e fase."
   ]
  },
  {
   "cell_type": "markdown",
   "metadata": {},
   "source": [
    "#### Observação:\n",
    "Antes de executar os códigos a segiur, comente (#) a última linha, a qual deve ficar como a seguir:\n",
    "\n",
    "> ipython\n",
    "> #%whos\n",
    "\n",
    "Esta não é uma função do Python, e sim um comando específico do IPython. Desse modo, só funciona nos notebooks ou no Console IPython embutido no Spyder. Comandos desse tipo são conhecidos como _magic functions_, e acrescentam funcionalidades interessantes aos códigos Python. Para saber mais sobre as _magics_, acesse  a [documentação](https://ipython.org/ipython-doc/3/interactive/tutorial.html). "
   ]
  },
  {
   "cell_type": "markdown",
   "metadata": {},
   "source": [
    "# Prática 2: Amplitude do espectro _single sided band_ \n",
    "\n",
    "Vamos praticar a construção da magnitude do espectro de um sinal senoidal de frequência única (um tom) sem usar as funções prontas do Python. Usaremos a função **plt.stem($\\cdot$)** ao invés da função **plt.plot($\\cdot$)**, isso facilitará a visualização no eixo da frequência.\n",
    "\n",
    "**Passo 1:** Abra o Spyder e digite no _Console IPython_ os seguinte comandos:\n",
    "\n",
    "> ```python\n",
    "import numpy.fft as fft  #importa o pacote 'fft' da biblioteca 'numpy'\n",
    "edit fft                  \n",
    "edit fft.fft\n",
    "```\n",
    "\n",
    "Isso abrirá os arquivos (na ordem):\n",
    "- $__init__$.py : Arquivos com esse título servem para marcar um diretório no disco como um diretório de pacote do Python. Lembre que o interpretador irá procurar nos diretórios do disco pelo pacote que está sendo chamado, e diretórios com nomes especiais (numpy,matplotlib,etc...) poderiam ser confundidos com os diretórios próprios dessas bibliotecas. Para evitar esse problema, diretórios de pacote contém o script marcador $__init__$.py, que pode estar vazio, inclusive. \n",
    "\n",
    "- np.fft.py (ou fftpack.py): Script contendo a definição das funções em comentários, bem como os seus respectivos códigos-fonte. O entendimento das definições pode ser um pouco sutil, dado que essas não são sempre intuitivas. \n",
    "\n",
    "Em Python, não existe 'código escondido'. Diz-se que uma função é _Built-in_ quando esta pode ser chamada sem importar uma biblioteca específica.\n",
    "\n",
    "**Passo 2:** Antes de usar a função do Python, vamos implementar um algoritmo para a DFT utilizando sua definição. Abra um script no Spyder, salve-o como **handson3_2.py** e escreva o seguinte código (remova a linha %whos):"
   ]
  },
  {
   "cell_type": "code",
   "execution_count": 7,
   "metadata": {
    "scrolled": false
   },
   "outputs": [
    {
     "name": "stdout",
     "output_type": "stream",
     "text": [
      "Tempo da DFT =  1.6963600000000003 s\n"
     ]
    },
    {
     "data": {
      "image/png": "[encoded data removed]",
      "text/plain": [
       "<matplotlib.figure.Figure at 0x7f84e7efbef0>"
      ]
     },
     "metadata": {},
     "output_type": "display_data"
    },
    {
     "name": "stdout",
     "output_type": "stream",
     "text": [
      "Variable    Type          Data/Info\n",
      "-----------------------------------\n",
      "Am          int           2\n",
      "L           int           2000\n",
      "N           int           2000\n",
      "T           float         0.1\n",
      "WN          complex128    (0.999995065202-0.00314158748588j)\n",
      "WNnk        ndarray       2000x2000: 4000000 elems, type `complex128`, 64000000 bytes (61.03515625 Mb)\n",
      "X           ndarray       2000: 2000 elems, type `complex128`, 32000 bytes\n",
      "f           ndarray       1001: 1001 elems, type `float64`, 8008 bytes\n",
      "fm          float         0.04\n",
      "freq1       ndarray       256: 256 elems, type `float64`, 2048 bytes\n",
      "fsampling   int           10\n",
      "k           ndarray       2000: 2000 elems, type `int64`, 16000 bytes\n",
      "lfft        int           512\n",
      "m           ndarray       2000: 2000 elems, type `float64`, 16000 bytes\n",
      "n           ndarray       2000: 2000 elems, type `int64`, 16000 bytes\n",
      "nn          ndarray       2000x2000: 4000000 elems, type `int64`, 32000000 bytes (30.517578125 Mb)\n",
      "np          module        <module 'numpy' from '/ho<...>kages/numpy/__init__.py'>\n",
      "plt         module        <module 'matplotlib.pyplo<...>es/matplotlib/pyplot.py'>\n",
      "t           ndarray       2000: 2000 elems, type `float64`, 16000 bytes\n",
      "t1          float         14.137618\n",
      "tempo_DFT   float         1.6963600000000003\n",
      "tempo_FFT   float         0.48734199999999994\n",
      "tf          int           200\n",
      "time        module        <module 'time' from '/hom<...>3.4/lib-dynload/time.so'>\n",
      "warnings    module        <module 'warnings' from '<...>b/python3.4/warnings.py'>\n",
      "yfft        ndarray       512: 512 elems, type `complex128`, 8192 bytes\n",
      "yfftuni     ndarray       256: 256 elems, type `complex128`, 4096 bytes\n"
     ]
    }
   ],
   "source": [
    "import warnings                                      # Método para suprimir os avisos de exceções \n",
    "warnings.filterwarnings('ignore')                    # Método para suprimir os avisos de exceções\n",
    "\n",
    "import numpy as np\n",
    "import matplotlib.pyplot as plt\n",
    "import time\n",
    "## Geração do sinal cosenoidal\n",
    "fsampling = 10                                       # Taxa de amostragem\n",
    "T =1/fsampling                                       # Tempo entre amostras\n",
    "L = 2000                                             # Número de amostras\n",
    "t = np.arange(0,(L-1)*T+1/fsampling,1/fsampling)     # Eixo do tempo\n",
    "fm = 0.04                                            # Frequência da senoide\n",
    "Am = 2                                               # Amplitude da senoide\n",
    "m = Am*np.cos(2*np.pi*fm*t)                          # Sinal senoidal\n",
    "t1=time.clock()                                      # Contador de tempo\n",
    "\n",
    "## Montando a DFT\n",
    "N=len(m)                                             # Comprimento do sinal m(t)\n",
    "n=np.arange(0,N)                                     # Vetor n\n",
    "k=np.arange(0,N)                                     # Vetor k\n",
    "WN=np.exp(-1j*2*np.pi/N)                             # Cálculo de Wn = e^{-j2pi/N}\n",
    "nn=np.outer(n,k)                                     # Monta a Matriz DFT\n",
    "WNnk=WN**nn                                          # Monta a Matriz DFT\n",
    "X=np.inner(m,WNnk.T/L)                               # Implementa o somatório da DFT via operação matricial    \n",
    "f = fsampling/2*np.linspace(0,1,(L/2)+1)             # Monta o eixo das frequências\n",
    "tempo_DFT=time.clock() - t1                          # Conta tempo de execução até esse ponto do código\n",
    "print('Tempo da DFT = ',tempo_DFT,'s')               # Mostra tempo de execução\n",
    "plt.stem(f,2*np.abs(X[0:L//2+1]))                     # Mostra gráfico do espectro \n",
    "plt.axis([0,0.1,0,2.2])                              # Zoom para melhor visualização \n",
    "plt.show()\n",
    "# A função 'whos' é responsável por mostrar todas as variáveis que foram criadas no workspace,\n",
    "# identificando suas principais caracteristicas.\n",
    "%whos\n",
    "\n"
   ]
  },
  {
   "cell_type": "markdown",
   "metadata": {
    "collapsed": true
   },
   "source": [
    "### Sobre o código:\n",
    "\n",
    "#### Ignorando avisos\n",
    "Devemos prestar atenção nas exceções mostradas ao exectuar um programa em Python. É semelhante a um 'erro', mas não compromete a execução do programa. Para saber mais sobre o levantamento de exceções e como elas funcionam, veja a [documentação](http://turing.com.br/pydoc/2.7/tutorial/errors.html). Não há necessidade, no escopo da disciplina, de deixar esses avisos serem sempre exibidos nos notebooks, por isso usamos as linhas abaixo para ignorá-los:\n",
    "\n",
    "> ```python\n",
    "import warnings                 # Método para suprimir os avisos de exceções \n",
    "warnings.filterwarnings('ignore') \n",
    "```\n",
    "\n",
    "#### Potências\n",
    "\n",
    "Elevar uma base 'a' a um expoente 'b' é bem simples em Python: basta usar o operador $**$ . Não é necessário utilizar as bibliotecas _math_ ou _numpy_. Na linha abaixo,\n",
    "\n",
    ">```python\n",
    "WNnk=WN**nn                     # Monta a Matriz DFT\n",
    "```\n",
    "\n",
    "o escalar 'WN' foi elevado a uma matriz de expoentes 'nn', e o resultado dessa operação foi outra matriz, com as mesmas dimensões de nn, cujos elementos correspondiam ao resultado de WN elevado ao elemento de mesma posição em nn.\n",
    "\n",
    "#### Biblioteca time\n",
    "\n",
    "Permite uma série de funcionalidades relacionadas a medição de tempo, como contadores e até tempos de espera na execução. Veja mais na [documentação](https://docs.python.org/2/library/time.html). O comando _time_ comando faz uma medição de tempo, acessando um valor de tempo definido pelo contador do sistema. Veja que ele é usado mais uma vez no fim do código para colher outra amostra de tempo e subtrair t1, para conseguir um valor de intervalo de tempo:\n",
    "\n",
    ">```python\n",
    "import time\n",
    "t1=time.clock()                 # Contador de tempo\n",
    "```\n",
    "\n",
    "\n",
    ">```python\n",
    "tempo_DFT=time.clock() - t1     # Conta tempo de execução até esse ponto do código\n",
    "```\n",
    "\n",
    "**Passo 3:** Entenda o funcionamento das funções np.outer(), np.inner() e np.linspace() através do Spyder. Para isso:\n",
    "- Observe as variáveis geradas por essas funções no _variable explorer_, no canto superior direito da tela;\n",
    "- Use o console do IPython para acessar a definição da função (ver Passo 4 da Prática 1, Hands-on 02 Python);\n",
    "- Explore o código fonte (ver Passo 1 da prática atual)."
   ]
  },
  {
   "cell_type": "markdown",
   "metadata": {
    "collapsed": true
   },
   "source": [
    "# Prática 3: Amplitude do espectro usando as funções do Python\n",
    "\n",
    "Agora vamos usar as funções prontas do Python (biblioteca NumPy) para gerar o espectro de um sinal. Seguiremos os seguintes passos:\n",
    "- Definir o tamanho da FFT (resolução em frequência);\n",
    "- Definir a frequência de amostragem (seguindo a montagem do sinal no tempo);\n",
    "- Normalizar a amplitude;\n",
    "- Definir o eixo da frequência de acordo com o comprimento da FFT e a taxa de amostragem.\n",
    "\n",
    "A resolução mínima de frequência será determinada pelo número de pontos da FFT e a taxa de amostragem. \n",
    "\n",
    "\n",
    "**Passo 1:** Abra um script no Spyder, salve-o como **handson3_3.py** e escreva o seguinte código:"
   ]
  },
  {
   "cell_type": "code",
   "execution_count": 5,
   "metadata": {},
   "outputs": [
    {
     "name": "stdout",
     "output_type": "stream",
     "text": [
      "Tempo da FFT =  0.48734199999999994\n"
     ]
    },
    {
     "data": {
      "image/png": "[encoded data removed]",
      "text/plain": [
       "<matplotlib.figure.Figure at 0x7f84ed33a1d0>"
      ]
     },
     "metadata": {},
     "output_type": "display_data"
    }
   ],
   "source": [
    "import numpy as np\n",
    "import matplotlib.pyplot as plt\n",
    "import time\n",
    "#Geração do sinal cosenoidal\n",
    "fsampling = 10                                               #Taxa de amostragem\n",
    "tf = 200                                                     #Tempo entre amostras\n",
    "t =  np.arange(0,tf+1/fsampling,1/fsampling)                 #Eixo do tempo\n",
    "fm = 0.04                                                    #Frequência da senoide\n",
    "Am = 2                                                       #Amplitude da senoide\n",
    "m = Am*np.cos(2*np.pi*fm*t)                                  #Sinal senoidal\n",
    "t1=time.clock()                                              #Contador de tempo\n",
    "\n",
    "#Visualizando a amplitude do espectro com um tamanho arbitrário para a fft\n",
    "lfft = 512                                                   #Tamanho da FFT  \n",
    "#Construção do single-sided amplitude spectrum.\n",
    "yfft = np.fft.fft(m,lfft)/lfft                               #Cálculo da FFT via função do Matlab\n",
    "freq1 = np.arange(0,fsampling/2,fsampling/lfft)              #Definição do eixo das frequências unilateral\n",
    "yfftuni = yfft[0:lfft//2]                                    #Coleta da FFT unilateral\n",
    "plt.stem(freq1,abs(yfftuni))                                 #Plotagem do espectro unilateral M(f)\n",
    "tempo_FFT=time.clock() - t1                                  #Conta tempo de execução até esse ponto do código\n",
    "print('Tempo da FFT = ',tempo_FFT)                           #Mostra de tempo de execução\n",
    "plt.title('Amplitude unilateral do Espectro de m(t)')        #Configuração do título do gráfico \n",
    "plt.xlabel('Frequencia (kHz)')                               #Configuração do eixo x do gráfico \n",
    "plt.ylabel('|M(f)|')                                         #Configuração do eixo y do gráfico  \n",
    "plt.grid()                                                   #Adiona o grid  \n",
    "plt.axis([0,0.1,0,1.2])                                      #Zoom do gráfico\n",
    "plt.show()"
   ]
  },
  {
   "cell_type": "markdown",
   "metadata": {},
   "source": [
    "Pelo gráfico, vemos que o pico não está centrado em 0,04 kHz. Podemos ver que quando a curva se aproxima de 0,04 kHz a amplitude cresce e em seguida decresce. Isso é muito comum de acontecer, e deve ao fato de que o eixo da frequência não está definido o valor de 0.04. Vamos inspecionar a variável _freq1_, os pontos mais pŕoximos de 0,04 são 0.0391 kHz e 0.0586 kHz, por isso o gráfico está aparentemente deslocado. Caso estivesse definido em 0.04, haveria o pico máximo. \n",
    "\n",
    "**Passo 2:** Vamos inspecionar as variável _freq1_, digite _freq1_ no Console IPython do Spyder:"
   ]
  },
  {
   "cell_type": "code",
   "execution_count": 6,
   "metadata": {},
   "outputs": [
    {
     "data": {
      "text/plain": [
       "array([ 0.        ,  0.01953125,  0.0390625 ,  0.05859375,  0.078125  ])"
      ]
     },
     "execution_count": 6,
     "metadata": {},
     "output_type": "execute_result"
    }
   ],
   "source": [
    "# Seis primeiros termos do vetor freq1 mostram que ele não está definido em 0.04 kHz.\n",
    "freq1[0:5]"
   ]
  },
  {
   "cell_type": "markdown",
   "metadata": {},
   "source": [
    "O motivo de usar a função **plt.stem($\\cdot$)** no lugar de **plt.plot($\\cdot$)** é que esta última faz a ligação dos pontos subsequentes e os aproxima como retas, o que pode mascarar o real comportamento do espectro. \n",
    "\n",
    "\n",
    "**Passo 3:** Vamos verificar a influência do tamanho da FFT no espectro mostrado. Abra um script no Spyder, salve-o como **handson3_4.py** e escreva o seguinte código. O código ilustra os dois casos: (i) Quando o tamanho da FFT gera um eixo que inclui a frequência da senoide; e (ii) Quando o tamanho da FFT **não** gera um eixo que inclui a frequência da senoide."
   ]
  },
  {
   "cell_type": "code",
   "execution_count": 3,
   "metadata": {},
   "outputs": [
    {
     "data": {
      "image/png": "[encoded data removed]",
      "text/plain": [
       "<matplotlib.figure.Figure at 0x7fc99fba4240>"
      ]
     },
     "metadata": {},
     "output_type": "display_data"
    },
    {
     "data": {
      "image/png": "[encoded data removed]",
      "text/plain": [
       "<matplotlib.figure.Figure at 0x7fc9a02812b0>"
      ]
     },
     "metadata": {},
     "output_type": "display_data"
    }
   ],
   "source": [
    "import numpy as np\n",
    "import matplotlib.pyplot as plt\n",
    "## Geração do sinal cosenoidal\n",
    "fsampling = 10                                               #Taxa de amostragem\n",
    "tf = 200                                                     #Tempo entre amostras\n",
    "t =  np.arange(0,tf+1/fsampling,1/fsampling)                 #Eixo do tempo\n",
    "fm = 0.04                                                    #Frequência da senoide\n",
    "Am = 2                                                       #Amplitude da senoide\n",
    "m = Am*np.cos(2*np.pi*fm*t)                                  #Sinal senoidal\n",
    "\n",
    "## Visualizando a amplitude do espectro com um tamanho arbitrário para a FFT\n",
    "plt.figure(1,[10,7])                                         #instância de figure, de número 1 e tamanho 10x7\n",
    "\n",
    "lfft = 1000                                                  # Tamanho da FFT\n",
    "yfft = np.fft.fft(m,lfft)/lfft                               # Cálculo da FFT via função do Matlab\n",
    "freq1 = np.arange(0,fsampling/2,fsampling/lfft)              # Definição do eixo das frequências unilateral\n",
    "yfftuni = yfft[0:lfft//2]                                    # Coleta da FFT unilateral\n",
    "\n",
    "\n",
    "## Visualizando a amplitude do espectro com um tamanho arbitrário para a FFT\n",
    "lfft2 = 512                                                  # Tamanho da FFT\n",
    "yfft2 = np.fft.fft(m,lfft2)/lfft2                            # Cálculo da FFT via função do Matlab\n",
    "freq2 = np.arange(0,fsampling/2,fsampling/lfft2)             # Definição do eixo das frequências unilateral\n",
    "yfftuni2 = yfft2[0:lfft2//2]                                 # Coleta da FFT unilateral\n",
    "\n",
    "\n",
    "## Gráficos com a função plt.plot()\n",
    "plt.figure(1,[10,7])\n",
    "plt.subplot(211)\n",
    "plt.plot(freq1,np.abs(yfftuni))                              # Plotagem do espectro unilateral M(f)\n",
    "plt.grid()\n",
    "plt.title('Tamanho da FFT = '+str(lfft))\n",
    "plt.axis([0,0.1,0,1.2])\n",
    "\n",
    "plt.subplot(212)\n",
    "plt.plot(freq2,np.abs(yfftuni2))                             # Plotagem do espectro unilateral M(f)\n",
    "plt.grid()\n",
    "plt.title('Tamanho da FFT = '+str(lfft2))\n",
    "plt.axis([0,0.1,0,1.2])\n",
    "\n",
    "plt.show()\n",
    "\n",
    "#Gráficos com a função pĺt.stem()\n",
    "plt.figure(2,[10,7])\n",
    "plt.subplot(211)\n",
    "plt.stem(freq1,np.abs(yfftuni))                              # Plotagem do espectro unilateral M(f)\n",
    "plt.grid()\n",
    "plt.title('Tamanho da FFT = '+str(lfft))\n",
    "plt.axis([0,0.1,0,1.2])\n",
    "\n",
    "plt.subplot(212)\n",
    "plt.stem(freq2,np.abs(yfftuni2))                             # Plotagem do espectro unilateral M(f)\n",
    "plt.grid()\n",
    "plt.title('Tamanho da FFT = '+str(lfft2))\n",
    "plt.axis([0,0.1,0,1.2])\n",
    "\n",
    "plt.show() \n",
    "\n"
   ]
  },
  {
   "cell_type": "markdown",
   "metadata": {},
   "source": [
    "Note que conseguimos visualizar melhor o desvio da frequência central quando usamos a função **plt.stem($\\cdot$)**."
   ]
  },
  {
   "cell_type": "markdown",
   "metadata": {
    "collapsed": true
   },
   "source": [
    "# Prática 4: _Double-sided amplitude spectrum_\n",
    "\n",
    "Queremos mostrar agora os dois lados (positivo e negativo) do espectro frequência. Para isso definiremos alguns vetores de forma diferente que as práticas anteriores.\n",
    "\n",
    "**Passo 1:** Abra um script no Matlab, salve-o como **handson3_5.py** e escreva o seguinte código:"
   ]
  },
  {
   "cell_type": "code",
   "execution_count": 21,
   "metadata": {},
   "outputs": [
    {
     "data": {
      "image/png": "[encoded data removed]",
      "text/plain": [
       "<matplotlib.figure.Figure at 0x7fc000073828>"
      ]
     },
     "metadata": {},
     "output_type": "display_data"
    }
   ],
   "source": [
    "import numpy as np\n",
    "import matplotlib.pyplot as plt\n",
    "\n",
    "## Geração do sinal cosenoidal\n",
    "fsampling = 10                                               #Taxa de amostragem\n",
    "tf = 200                                                     #Tempo entre amostras\n",
    "t =  np.arange(0,tf+1/fsampling,1/fsampling)                 #Eixo do tempo\n",
    "fm = 0.04                                                    #Frequência da senoide\n",
    "Am = 2                                                       #Amplitude da senoide\n",
    "m = Am*np.cos(2*np.pi*fm*t)                                  #Sinal senoidal\n",
    "\n",
    "## Plot do sinal M(f): single-sided amplitude spectrum.\n",
    "# Visualizando a amplitude do espectro com um tamanho arbitrário para a fft\n",
    "lfft = 1000\n",
    "## Construção do single-sided amplitude spectrum.\n",
    "yfft = np.fft.fft(m,lfft)/lfft                               # Cálculo da FFT via função do Matlab\n",
    "freq1 = np.arange(0,fsampling/2,fsampling/lfft)              # Definição do eixo das frequências unilateral\n",
    "yfftuni = yfft[0:lfft//2]                                    # Coleta da FFT unilateral\n",
    "\n",
    "plt.figure(1,[10,7])\n",
    "plt.subplot(121)\n",
    "plt.stem(freq1,np.abs(yfftuni))                              # Plotagem do espectro unilateral M(f)\n",
    "plt.title('Espectro unilateral')                             # Configuração do título do gráfico \n",
    "plt.xlabel('Frequencia (kHz)')                               # Configuração do eixo x do gráfico \n",
    "plt.ylabel('|M(f)|')                                         # Configuração do eixo y do gráfico  \n",
    "plt.grid()                                                   # Adiona o grid  \n",
    "plt.axis([0,0.1,0,1.2])                                      # Zoom do gráfico\n",
    "\n",
    "## Plot do sinal M(f): double-sided amplitude spectrum.\n",
    "# Colocando as frequência no lado esquerdo \n",
    "plt.subplot(122)\n",
    "## Construção do double-sided amplitude spectrum.\n",
    "lfftd = 1000\n",
    "yfftd = np.fft.fft(m,lfftd)/lfftd                            # Cálculo da FFT via função do Matlab\n",
    "yfftd = np.fft.fftshift(yfft)\n",
    "# Definição do eixo das frequências unilateral\n",
    "freqd = np.fft.fftfreq(lfftd,1/fsampling)\n",
    "freqd = np.fft.fftshift(np.fft.fftfreq(lfftd,1/fsampling))\n",
    "plt.stem(freqd,np.abs(yfftd))                                # Plotagem do espectro unilateral M(f)\n",
    "plt.title('Espectro bilateral')                              # Configuração do título do gráfico \n",
    "plt.xlabel('Frequencia (kHz)')                               # Configuração do eixo x do gráfico \n",
    "plt.ylabel('|M(f)|')                                         # Configuração do eixo y do gráfico  \n",
    "plt.grid()                                                   # Adiona o grid  \n",
    "plt.axis([-0.05,0.05,0,1.2])                                 # Zoom do gráfico\n",
    "\n",
    "plt.show()"
   ]
  },
  {
   "cell_type": "markdown",
   "metadata": {},
   "source": [
    "**Passo 2:** Para entender o que foi feito nas linha de código abaixo:\n",
    "```python\n",
    "freqd = np.fft.fftfreq(lfftd,1/fsampling)\n",
    "freqd = np.fft.fftshift(np.fft.fftfreq(lfftd,1/fsampling))\n",
    "```\n",
    "Consulte, com a ajuda do **Console IPython**, a definição dessas duas funções. Lembre que as células de código (quando o kernel em questão é do próprio Python) do Jupyter Notebook também se comportam como o console IPython, então essa consulta pode ser feita pelo Spyder ou pelo próprio notebook. Sabendo disso, execute as células abaixo:"
   ]
  },
  {
   "cell_type": "code",
   "execution_count": 28,
   "metadata": {
    "collapsed": true
   },
   "outputs": [],
   "source": [
    "import numpy as np #apenas se a numpy não tiver sido importada anteriormente\n",
    "np.fft.fftfreq?"
   ]
  },
  {
   "cell_type": "markdown",
   "metadata": {},
   "source": [
    "Você pode expandir a definição clicando no canto superior direito da aba que surge, ao lado do 'x'."
   ]
  },
  {
   "cell_type": "code",
   "execution_count": 30,
   "metadata": {
    "collapsed": true
   },
   "outputs": [],
   "source": [
    "np.fft.fftshift?"
   ]
  },
  {
   "cell_type": "markdown",
   "metadata": {},
   "source": [
    "# Projeto da UNIDADE I\n",
    "\n",
    "\n",
    "Agora que você já sabe gerar e visualizar um sinal no tempo e na frequência, o projeto da UNIDADE I traz o desafio de você descobrir tanto a frequência como a fase de um sinal gravado em arquivo.\n",
    "\n",
    "\n",
    "O arquivo de cada aluno está identificado por sua matrícula na pasta [./CODES/HD_02_files](./CODES/HD_02_files). Por exemplo, o arquivo **2014089577.mat** é do aluno com matrícula 2014089577.\n",
    "\n",
    "\n",
    "Cada arquivo (gerado no Matlab) tem os seguinte conjunto de dados:\n",
    "\n",
    "- **fs**: frequência de amostragem (taxa de amostragem)\n",
    "- **t_sample**: vetor com os instantes das amostras do sinal \n",
    "- **x**: amostras dos sinal\n",
    "\n",
    "O sinal $x$ é composto por uma soma de 2 a 5 senos com frequências e fases diferentes. Seu objetivo é, por meio do sinal $x$, estimar quantos senos compõem o sinal, quais suas frequências e respectivas fases.\n",
    "\n",
    "Um material muito bom para guia-lo na execução do projeto é: \n",
    "\n",
    "[Profs. Larissa Driemeier/Marcilio Alves/Rafael T. Moura, ESCOLA POLITÉCNICA DA UNIVERSIDADE DE SÃO PAULO, Departamento de Engenharia Mecatrônica, Instrumentação](./MATERIAL/HD_03_MATLAB/AnaliseSinais_Instrumentacao.pdf)\n",
    "[Link para versão na web](https://edisciplinas.usp.br/pluginfile.php/4398247/mod_resource/content/4/AnaliseSinais_Instrumentacao.pdf)\n",
    "\n",
    "Minha sugestão é:\n",
    "\n",
    "1. Leia o material, siga os experimentos (pelo menos até a página 9). O sinal foi gerado minimizando o Leakage;\n",
    "2. Abra o arquivo com sua matrícula, manipule o sinal $x$ e estime as frequências e, fases correspondentes, que o compõe. **Dica**: você pode utilizar a função **findpeaks** no espectro do sinal!!!\n",
    "\n",
    "\n",
    "Além de enviar o código pelo SIGAA, a entrega só será completa se você gravar um vídeo de até 5 minutos explicando seu código e mostrando os valores estimados. \n",
    "\n",
    "O link para o vídeo deve ser compartilhado no youtube (de forma privada) para o prof. Vicente Sousa pelo e-mail **vicente.sousa@ufrn.edu.br**."
   ]
  },
  {
   "cell_type": "markdown",
   "metadata": {},
   "source": [
    "# Bibliografia\n",
    "\n",
    "Steven W. Smith, The Scientist and Engineer's Guide to Digital Signal Processing (http://www.dspguide.com/ch8/1.htm ).\n",
    "\n",
    "Steve Mann, The Discrete Fourier Transform (http://wearcam.org/ece431/course_material/fourierop_and_dit.htm ).\n",
    "\n",
    "Wikipedia: DFT matrix (https://en.wikipedia.org/wiki/DFT_matrix)\n",
    "\n",
    "OKTAY ALKIN, SIGNALS and SYSTEMS - A MATLAB Integrated Approach, 2014.\n",
    "\n",
    "MATTHEW N. O. SADIKU and WARSAME H. ALI, Signals and Systems A Primer with MATLAB, 2015.\n",
    "\n",
    "Ricardo Tokio Higuti, Processamento Digital de Sinais - Notas de Aula - Analise Espectral Usando a DFT (http://www.feis.unesp.br/Home/departamentos/engenhariaeletrica/ele1095_5_analiseespectral.pdf)\n",
    "\n",
    "Digital Signal Processing - Part 3: Discrete-Time Signals & Systems Case Studies (http://aparate.elth.ucv.ro/web/Arhiva/Matla/matlabsignal.pdf)\n",
    "\n",
    "\n"
   ]
  }
 ],
 "metadata": {
  "kernelspec": {
   "display_name": "Python 3",
   "language": "python",
   "name": "python3"
  },
  "language_info": {
   "codemirror_mode": {
    "name": "ipython",
    "version": 3
   },
   "file_extension": ".py",
   "mimetype": "text/x-python",
   "name": "python",
   "nbconvert_exporter": "python",
   "pygments_lexer": "ipython3",
   "version": "3.8.3"
  }
 },
 "nbformat": 4,
 "nbformat_minor": 2
}
